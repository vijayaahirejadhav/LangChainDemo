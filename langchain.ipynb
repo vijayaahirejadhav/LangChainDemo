{
 "cells": [
  {
   "cell_type": "code",
   "execution_count": 5,
   "id": "ca23dae3",
   "metadata": {},
   "outputs": [
    {
     "name": "stdout",
     "output_type": "stream",
     "text": [
      "Collecting openai\n",
      "  Downloading openai-1.3.7-py3-none-any.whl (221 kB)\n",
      "Collecting distro<2,>=1.7.0\n",
      "  Downloading distro-1.8.0-py3-none-any.whl (20 kB)\n",
      "Requirement already satisfied: pydantic<3,>=1.9.0 in c:\\users\\aaditya\\anaconda3\\lib\\site-packages (from openai) (1.10.12)\n",
      "Requirement already satisfied: typing-extensions<5,>=4.5 in c:\\users\\aaditya\\anaconda3\\lib\\site-packages (from openai) (4.7.1)\n",
      "Requirement already satisfied: sniffio in c:\\users\\aaditya\\anaconda3\\lib\\site-packages (from openai) (1.2.0)\n",
      "Collecting httpx<1,>=0.23.0\n",
      "  Downloading httpx-0.25.2-py3-none-any.whl (74 kB)\n",
      "Collecting anyio<4,>=3.5.0\n",
      "  Downloading anyio-3.7.1-py3-none-any.whl (80 kB)\n",
      "Requirement already satisfied: tqdm>4 in c:\\users\\aaditya\\anaconda3\\lib\\site-packages (from openai) (4.62.3)\n",
      "Requirement already satisfied: idna>=2.8 in c:\\users\\aaditya\\anaconda3\\lib\\site-packages (from anyio<4,>=3.5.0->openai) (3.2)\n",
      "Collecting exceptiongroup\n",
      "  Downloading exceptiongroup-1.2.0-py3-none-any.whl (16 kB)\n",
      "Requirement already satisfied: certifi in c:\\users\\aaditya\\anaconda3\\lib\\site-packages (from httpx<1,>=0.23.0->openai) (2021.10.8)\n",
      "Collecting httpcore==1.*\n",
      "  Downloading httpcore-1.0.2-py3-none-any.whl (76 kB)\n",
      "Collecting h11<0.15,>=0.13\n",
      "  Downloading h11-0.14.0-py3-none-any.whl (58 kB)\n",
      "Requirement already satisfied: colorama in c:\\users\\aaditya\\anaconda3\\lib\\site-packages (from tqdm>4->openai) (0.4.6)\n",
      "Installing collected packages: h11, exceptiongroup, httpcore, anyio, httpx, distro, openai\n",
      "  Attempting uninstall: anyio\n",
      "    Found existing installation: anyio 2.2.0\n",
      "    Uninstalling anyio-2.2.0:\n",
      "      Successfully uninstalled anyio-2.2.0\n",
      "Successfully installed anyio-3.7.1 distro-1.8.0 exceptiongroup-1.2.0 h11-0.14.0 httpcore-1.0.2 httpx-0.25.2 openai-1.3.7\n"
     ]
    }
   ],
   "source": [
    "!pip install openai"
   ]
  },
  {
   "cell_type": "code",
   "execution_count": 2,
   "id": "50e63918",
   "metadata": {},
   "outputs": [
    {
     "name": "stdout",
     "output_type": "stream",
     "text": [
      "Collecting langchain\n",
      "  Downloading langchain-0.0.345-py3-none-any.whl (2.0 MB)\n",
      "Requirement already satisfied: async-timeout<5.0.0,>=4.0.0 in c:\\users\\aaditya\\anaconda3\\lib\\site-packages (from langchain) (4.0.3)\n",
      "Requirement already satisfied: anyio<4.0 in c:\\users\\aaditya\\anaconda3\\lib\\site-packages (from langchain) (2.2.0)\n",
      "Requirement already satisfied: requests<3,>=2 in c:\\users\\aaditya\\anaconda3\\lib\\site-packages (from langchain) (2.31.0)\n",
      "Collecting langchain-core<0.1,>=0.0.9\n",
      "  Downloading langchain_core-0.0.9-py3-none-any.whl (177 kB)\n",
      "Requirement already satisfied: pydantic<3,>=1 in c:\\users\\aaditya\\anaconda3\\lib\\site-packages (from langchain) (1.10.12)\n",
      "Requirement already satisfied: tenacity<9.0.0,>=8.1.0 in c:\\users\\aaditya\\anaconda3\\lib\\site-packages (from langchain) (8.2.3)\n",
      "Requirement already satisfied: PyYAML>=5.3 in c:\\users\\aaditya\\anaconda3\\lib\\site-packages (from langchain) (6.0)\n",
      "Requirement already satisfied: SQLAlchemy<3,>=1.4 in c:\\users\\aaditya\\anaconda3\\lib\\site-packages (from langchain) (1.4.22)\n",
      "Collecting dataclasses-json<0.7,>=0.5.7\n",
      "  Downloading dataclasses_json-0.6.3-py3-none-any.whl (28 kB)\n",
      "Requirement already satisfied: aiohttp<4.0.0,>=3.8.3 in c:\\users\\aaditya\\anaconda3\\lib\\site-packages (from langchain) (3.8.5)\n",
      "Requirement already satisfied: numpy<2,>=1 in c:\\users\\aaditya\\anaconda3\\lib\\site-packages (from langchain) (1.22.4)\n",
      "Collecting jsonpatch<2.0,>=1.33\n",
      "  Downloading jsonpatch-1.33-py2.py3-none-any.whl (12 kB)\n",
      "Collecting langsmith<0.1.0,>=0.0.63\n",
      "  Downloading langsmith-0.0.69-py3-none-any.whl (48 kB)\n",
      "Requirement already satisfied: multidict<7.0,>=4.5 in c:\\users\\aaditya\\anaconda3\\lib\\site-packages (from aiohttp<4.0.0,>=3.8.3->langchain) (6.0.4)\n",
      "Requirement already satisfied: frozenlist>=1.1.1 in c:\\users\\aaditya\\anaconda3\\lib\\site-packages (from aiohttp<4.0.0,>=3.8.3->langchain) (1.4.0)\n",
      "Requirement already satisfied: aiosignal>=1.1.2 in c:\\users\\aaditya\\anaconda3\\lib\\site-packages (from aiohttp<4.0.0,>=3.8.3->langchain) (1.3.1)\n",
      "Requirement already satisfied: charset-normalizer<4.0,>=2.0 in c:\\users\\aaditya\\anaconda3\\lib\\site-packages (from aiohttp<4.0.0,>=3.8.3->langchain) (2.0.4)\n",
      "Requirement already satisfied: attrs>=17.3.0 in c:\\users\\aaditya\\anaconda3\\lib\\site-packages (from aiohttp<4.0.0,>=3.8.3->langchain) (21.2.0)\n",
      "Requirement already satisfied: yarl<2.0,>=1.0 in c:\\users\\aaditya\\anaconda3\\lib\\site-packages (from aiohttp<4.0.0,>=3.8.3->langchain) (1.9.2)\n",
      "Requirement already satisfied: sniffio>=1.1 in c:\\users\\aaditya\\anaconda3\\lib\\site-packages (from anyio<4.0->langchain) (1.2.0)\n",
      "Requirement already satisfied: idna>=2.8 in c:\\users\\aaditya\\anaconda3\\lib\\site-packages (from anyio<4.0->langchain) (3.2)\n",
      "Collecting marshmallow<4.0.0,>=3.18.0\n",
      "  Downloading marshmallow-3.20.1-py3-none-any.whl (49 kB)\n",
      "Collecting typing-inspect<1,>=0.4.0\n",
      "  Downloading typing_inspect-0.9.0-py3-none-any.whl (8.8 kB)\n",
      "Collecting jsonpointer>=1.9\n",
      "  Downloading jsonpointer-2.4-py2.py3-none-any.whl (7.8 kB)\n",
      "Requirement already satisfied: packaging>=17.0 in c:\\users\\aaditya\\anaconda3\\lib\\site-packages (from marshmallow<4.0.0,>=3.18.0->dataclasses-json<0.7,>=0.5.7->langchain) (23.1)\n",
      "Requirement already satisfied: typing-extensions>=4.2.0 in c:\\users\\aaditya\\anaconda3\\lib\\site-packages (from pydantic<3,>=1->langchain) (4.7.1)\n",
      "Requirement already satisfied: urllib3<3,>=1.21.1 in c:\\users\\aaditya\\anaconda3\\lib\\site-packages (from requests<3,>=2->langchain) (1.26.7)\n",
      "Requirement already satisfied: certifi>=2017.4.17 in c:\\users\\aaditya\\anaconda3\\lib\\site-packages (from requests<3,>=2->langchain) (2021.10.8)\n",
      "Requirement already satisfied: greenlet!=0.4.17 in c:\\users\\aaditya\\anaconda3\\lib\\site-packages (from SQLAlchemy<3,>=1.4->langchain) (1.1.1)\n",
      "Requirement already satisfied: mypy-extensions>=0.3.0 in c:\\users\\aaditya\\anaconda3\\lib\\site-packages (from typing-inspect<1,>=0.4.0->dataclasses-json<0.7,>=0.5.7->langchain) (0.4.3)\n",
      "Installing collected packages: jsonpointer, typing-inspect, marshmallow, langsmith, jsonpatch, langchain-core, dataclasses-json, langchain\n",
      "Successfully installed dataclasses-json-0.6.3 jsonpatch-1.33 jsonpointer-2.4 langchain-0.0.345 langchain-core-0.0.9 langsmith-0.0.69 marshmallow-3.20.1 typing-inspect-0.9.0\n"
     ]
    }
   ],
   "source": [
    "!pip install langchain"
   ]
  },
  {
   "cell_type": "code",
   "execution_count": 14,
   "id": "c8e1ccb4",
   "metadata": {},
   "outputs": [],
   "source": [
    "import os\n",
    "from secret_key import  openai_key\n",
    "\n",
    "# add you own created OpenAI API Key\n",
    "os.environ['OPENAI_API_KEY'] = \"sk-\"\n",
    "# os.environ['OPENAI_API_KEY'] = openai_key"
   ]
  },
  {
   "cell_type": "code",
   "execution_count": 15,
   "id": "09d92c3f",
   "metadata": {},
   "outputs": [],
   "source": [
    "from langchain.llms import OpenAI\n",
    "llm = OpenAI(temperature=0)"
   ]
  },
  {
   "cell_type": "code",
   "execution_count": 16,
   "id": "0e1596b8",
   "metadata": {},
   "outputs": [
    {
     "data": {
      "text/plain": [
       "langchain.llms.openai.OpenAI"
      ]
     },
     "execution_count": 16,
     "metadata": {},
     "output_type": "execute_result"
    }
   ],
   "source": [
    "type(llm)"
   ]
  },
  {
   "cell_type": "code",
   "execution_count": 17,
   "id": "c83bf057",
   "metadata": {},
   "outputs": [],
   "source": [
    "name = llm(\"I want to open restaurant for Indian food. Suggest a fency name for this\")"
   ]
  },
  {
   "cell_type": "code",
   "execution_count": 18,
   "id": "c9afd490",
   "metadata": {},
   "outputs": [
    {
     "name": "stdout",
     "output_type": "stream",
     "text": [
      "\n",
      "\n",
      "Maharaja's Kitchen\n"
     ]
    }
   ],
   "source": [
    "print(name)"
   ]
  },
  {
   "cell_type": "code",
   "execution_count": 19,
   "id": "65899fdd",
   "metadata": {},
   "outputs": [],
   "source": [
    "from langchain.prompts import PromptTemplate"
   ]
  },
  {
   "cell_type": "code",
   "execution_count": 20,
   "id": "968078d0",
   "metadata": {},
   "outputs": [
    {
     "data": {
      "text/plain": [
       "'I want to open restaurant for Indian food. Suggest a fency name for this'"
      ]
     },
     "execution_count": 20,
     "metadata": {},
     "output_type": "execute_result"
    }
   ],
   "source": [
    "prompt_template_name = PromptTemplate(\n",
    "    input_variables = ['cuisine'],\n",
    "    template = 'I want to open restaurant for {cuisine} food. Suggest a fency name for this'\n",
    ")\n",
    "\n",
    "prompt_template_name.format(cuisine='Indian')"
   ]
  },
  {
   "cell_type": "code",
   "execution_count": 21,
   "id": "67d24340",
   "metadata": {},
   "outputs": [],
   "source": [
    "from langchain.chains import LLMChain"
   ]
  },
  {
   "cell_type": "code",
   "execution_count": 22,
   "id": "299dbafe",
   "metadata": {},
   "outputs": [
    {
     "data": {
      "text/plain": [
       "'\\n\\nTuscan Trattoria'"
      ]
     },
     "execution_count": 22,
     "metadata": {},
     "output_type": "execute_result"
    }
   ],
   "source": [
    "chain = LLMChain(llm = llm, prompt = prompt_template_name)\n",
    "chain.run(\"Italian\")"
   ]
  },
  {
   "cell_type": "code",
   "execution_count": 23,
   "id": "b78e8595",
   "metadata": {},
   "outputs": [],
   "source": [
    "prompt_template_name = PromptTemplate(\n",
    "    input_variables = ['cuisine'],\n",
    "    template = 'I want to open restaurant for {cuisine} food. Suggest a fency name for this'\n",
    ")\n",
    "name_chain = LLMChain(llm = llm, prompt = prompt_template_name)\n",
    "\n",
    "prompt_template_item = PromptTemplate(\n",
    "    input_variables =['restaurant_name'],\n",
    "    template = \"Suggest menu item for {restaurant_name}. Return it as a comma spearated list\"\n",
    ")\n",
    "food_item_chain = LLMChain(llm = llm, prompt = prompt_template_item)\n"
   ]
  },
  {
   "cell_type": "markdown",
   "id": "d49adf84",
   "metadata": {},
   "source": [
    "## Sequential Chain\n",
    "1. Simple Sequential Chain - Only one input and one output\n",
    "2. Sequential Chain - Multiple input and Multiple output"
   ]
  },
  {
   "cell_type": "markdown",
   "id": "f97f89ff",
   "metadata": {},
   "source": [
    "### 1. Simple Sequential Chain"
   ]
  },
  {
   "cell_type": "code",
   "execution_count": 24,
   "id": "d28b154a",
   "metadata": {},
   "outputs": [],
   "source": [
    "from langchain.chains import SimpleSequentialChain"
   ]
  },
  {
   "cell_type": "code",
   "execution_count": 25,
   "id": "7df0e48c",
   "metadata": {},
   "outputs": [],
   "source": [
    "chain = SimpleSequentialChain(chains=[name_chain,food_item_chain])"
   ]
  },
  {
   "cell_type": "code",
   "execution_count": 26,
   "id": "7fd99006",
   "metadata": {},
   "outputs": [],
   "source": [
    "response = chain.run(\"French\")"
   ]
  },
  {
   "cell_type": "code",
   "execution_count": 27,
   "id": "20a8a742",
   "metadata": {},
   "outputs": [
    {
     "name": "stdout",
     "output_type": "stream",
     "text": [
      "\n",
      "\n",
      "Croque Monsieur, Boeuf Bourguignon, Coq au Vin, Ratatouille, Crêpes Suzette, Cassoulet, Steak Frites, Salade Niçoise, Soupe à l'Oignon, Confit de Canard.\n"
     ]
    }
   ],
   "source": [
    "print(response)"
   ]
  },
  {
   "cell_type": "markdown",
   "id": "64d8da1c",
   "metadata": {},
   "source": [
    "### 2. Sequential Chain"
   ]
  },
  {
   "cell_type": "code",
   "execution_count": 52,
   "id": "faa284ca",
   "metadata": {},
   "outputs": [],
   "source": [
    "prompt_template_name = PromptTemplate(\n",
    "    input_variables = ['cuisine'],\n",
    "    template = 'I want to open restaurant for {cuisine} food. Suggest a fency name for this'\n",
    ")\n",
    "name_chain = LLMChain(llm = llm, prompt = prompt_template_name,output_key='restaurant_name')\n",
    "\n",
    "prompt_template_item = PromptTemplate(\n",
    "    input_variables =['restaurant_name'],\n",
    "    template = \"Suggest menu item for {restaurant_name}. Return it as a comma spearated list\"\n",
    ")\n",
    "food_item_chain = LLMChain(llm = llm, prompt = prompt_template_item,output_key='menu_items')\n"
   ]
  },
  {
   "cell_type": "code",
   "execution_count": 53,
   "id": "32d6af6d",
   "metadata": {},
   "outputs": [],
   "source": [
    "from langchain.chains import SequentialChain"
   ]
  },
  {
   "cell_type": "code",
   "execution_count": 54,
   "id": "234fe270",
   "metadata": {
    "scrolled": true
   },
   "outputs": [
    {
     "data": {
      "text/plain": [
       "{'cuisine': 'Indian',\n",
       " 'restaurant_name': \"\\n\\nMaharaja's Kitchen\",\n",
       " 'menu_items': '\\n\\nButter Chicken, Dal Makhani, Paneer Tikka Masala, Vegetable Biryani, Naan Bread, Raita.'}"
      ]
     },
     "execution_count": 54,
     "metadata": {},
     "output_type": "execute_result"
    }
   ],
   "source": [
    "chain = SequentialChain(\n",
    "    chains = [name_chain,food_item_chain],\n",
    "    input_variables = ['cuisine'],\n",
    "    output_variables = ['restaurant_name',\"menu_items\"]\n",
    ")\n",
    "\n",
    "chain({'cuisine':'Indian'})\n"
   ]
  },
  {
   "cell_type": "code",
   "execution_count": null,
   "id": "87548e22",
   "metadata": {},
   "outputs": [],
   "source": []
  }
 ],
 "metadata": {
  "kernelspec": {
   "display_name": "Python 3 (ipykernel)",
   "language": "python",
   "name": "python3"
  },
  "language_info": {
   "codemirror_mode": {
    "name": "ipython",
    "version": 3
   },
   "file_extension": ".py",
   "mimetype": "text/x-python",
   "name": "python",
   "nbconvert_exporter": "python",
   "pygments_lexer": "ipython3",
   "version": "3.9.7"
  }
 },
 "nbformat": 4,
 "nbformat_minor": 5
}
